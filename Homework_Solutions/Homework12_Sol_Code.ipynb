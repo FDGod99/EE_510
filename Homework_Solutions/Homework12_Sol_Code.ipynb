{
 "cells": [
  {
   "attachments": {},
   "cell_type": "markdown",
   "metadata": {},
   "source": [
    "# EE 510 - Homework 12 (Using Python)\n",
    "____________________________________________________________\n",
    "## Name - Onkar Vivek Apte\n",
    "## USC ID - XXXXXXXXXX\n",
    "____________________________________________________________"
   ]
  },
  {
   "cell_type": "code",
   "execution_count": 53,
   "metadata": {},
   "outputs": [],
   "source": [
    "import numpy as np\n",
    "import sympy as sp\n",
    "from sympy import Matrix"
   ]
  },
  {
   "cell_type": "markdown",
   "metadata": {},
   "source": [
    "## Question 1"
   ]
  },
  {
   "cell_type": "code",
   "execution_count": 54,
   "metadata": {},
   "outputs": [],
   "source": [
    "A = np.array([[1,2,4,8],\n",
    "              [1,3,9,27],\n",
    "             [1,4,16,64],\n",
    "             [1,5,25,125]])\n",
    "b= np.array([[1],\n",
    "             [-1],\n",
    "            [1],\n",
    "            [-1]])\n",
    "x01= np.array([[0],\n",
    "             [0],\n",
    "            [0],\n",
    "            [0]])\n",
    "x02= np.array([[1],\n",
    "             [1],\n",
    "            [1],\n",
    "            [1]])"
   ]
  },
  {
   "cell_type": "markdown",
   "metadata": {},
   "source": [
    "## Part (i)"
   ]
  },
  {
   "cell_type": "code",
   "execution_count": 55,
   "metadata": {},
   "outputs": [
    {
     "data": {
      "text/plain": [
       "array([[ 10.        , -20.        ,  15.        ,  -4.        ],\n",
       "       [ -7.83333333,  19.        , -15.5       ,   4.33333333],\n",
       "       [  2.        ,  -5.5       ,   5.        ,  -1.5       ],\n",
       "       [ -0.16666667,   0.5       ,  -0.5       ,   0.16666667]])"
      ]
     },
     "execution_count": 55,
     "metadata": {},
     "output_type": "execute_result"
    }
   ],
   "source": [
    "ainv = np.linalg.inv(A)\n",
    "ainv"
   ]
  },
  {
   "cell_type": "markdown",
   "metadata": {},
   "source": [
    "## Part (ii)"
   ]
  },
  {
   "cell_type": "code",
   "execution_count": 56,
   "metadata": {},
   "outputs": [
    {
     "data": {
      "text/plain": [
       "12.0"
      ]
     },
     "execution_count": 56,
     "metadata": {},
     "output_type": "execute_result"
    }
   ],
   "source": [
    "adet = np.linalg.det(A)\n",
    "adet"
   ]
  },
  {
   "cell_type": "markdown",
   "metadata": {},
   "source": [
    "## Part (iii)"
   ]
  },
  {
   "cell_type": "code",
   "execution_count": 57,
   "metadata": {},
   "outputs": [
    {
     "name": "stdout",
     "output_type": "stream",
     "text": [
      "PurePoly(lambda**4 - 145*lambda**3 + 782*lambda**2 - 410*lambda + 12, lambda, domain='ZZ')\n"
     ]
    }
   ],
   "source": [
    "A_sym = Matrix(A)\n",
    "print(A_sym.charpoly())"
   ]
  },
  {
   "cell_type": "markdown",
   "metadata": {},
   "source": [
    "## Part (iv)"
   ]
  },
  {
   "cell_type": "code",
   "execution_count": 58,
   "metadata": {},
   "outputs": [
    {
     "name": "stdout",
     "output_type": "stream",
     "text": [
      "EigenValues: \n",
      " [1.39411810e+02 5.00404037e+00 5.53046928e-01 3.11027573e-02]\n",
      "EigenVectors: \n",
      " [[ 0.06604881  0.55133981 -0.94518439  0.72677192]\n",
      " [ 0.20166395  0.66311608 -0.17411076 -0.66036048]\n",
      " [ 0.4554452   0.48822234  0.27328922  0.18824402]\n",
      " [ 0.86460331 -0.13394183 -0.04031029 -0.0170528 ]]\n"
     ]
    }
   ],
   "source": [
    "evalu,evect = np.linalg.eig(A)\n",
    "print(\"EigenValues: \\n\",evalu)\n",
    "print(\"EigenVectors: \\n\",evect)"
   ]
  },
  {
   "cell_type": "markdown",
   "metadata": {},
   "source": [
    "## Part (v)"
   ]
  },
  {
   "cell_type": "code",
   "execution_count": 59,
   "metadata": {},
   "outputs": [
    {
     "data": {
      "text/plain": [
       "array([[3.11027573e-02-6.39452411e-34j, 0.00000000e+00+0.00000000e+00j,\n",
       "        0.00000000e+00+0.00000000e+00j, 0.00000000e+00+0.00000000e+00j],\n",
       "       [0.00000000e+00+0.00000000e+00j, 5.53046928e-01-1.49852222e-30j,\n",
       "        0.00000000e+00+0.00000000e+00j, 0.00000000e+00+0.00000000e+00j],\n",
       "       [0.00000000e+00+0.00000000e+00j, 0.00000000e+00+0.00000000e+00j,\n",
       "        5.00404037e+00+2.15531305e-30j, 0.00000000e+00+0.00000000e+00j],\n",
       "       [0.00000000e+00+0.00000000e+00j, 0.00000000e+00+0.00000000e+00j,\n",
       "        0.00000000e+00+0.00000000e+00j, 1.39411810e+02+6.52807706e-31j]])"
      ]
     },
     "execution_count": 59,
     "metadata": {},
     "output_type": "execute_result"
    }
   ],
   "source": [
    "m = Matrix(A)\n",
    "J = m.jordan_form(calc_transform = False)\n",
    "np.array(J).astype(np.cdouble)"
   ]
  },
  {
   "cell_type": "markdown",
   "metadata": {},
   "source": [
    "## Part (vi)"
   ]
  },
  {
   "cell_type": "code",
   "execution_count": 60,
   "metadata": {},
   "outputs": [
    {
     "name": "stdout",
     "output_type": "stream",
     "text": [
      "U : [[-0.05970473 -0.50955628  0.79149849 -0.33214136]\n",
      " [-0.19366886 -0.64293214 -0.12178385  0.73095782]\n",
      " [-0.45031148 -0.4151988  -0.54251525 -0.57489715]\n",
      " [-0.8695673   0.39319285  0.25372433  0.15772147]]\n",
      "\n",
      " sig : [1.46691873e+02 5.58351667e+00 5.63876614e-01 2.59826409e-02]\n",
      "\n",
      " V : [[-0.01072488 -0.0466931  -0.21082289 -0.97634955]\n",
      " [-0.21035029 -0.47331102 -0.83065463  0.20430936]\n",
      " [ 0.67554445  0.56077174 -0.47385628  0.06808058]\n",
      " [-0.70659566  0.67773999 -0.20255076  0.0190861 ]]\n"
     ]
    }
   ],
   "source": [
    "U,sig,V = np.linalg.svd(A)\n",
    "print(\"U :\",U)\n",
    "print(\"\\n sig :\",sig)\n",
    "print(\"\\n V :\",V)"
   ]
  },
  {
   "cell_type": "markdown",
   "metadata": {},
   "source": [
    "## Part (vii)"
   ]
  },
  {
   "cell_type": "code",
   "execution_count": 61,
   "metadata": {},
   "outputs": [
    {
     "name": "stdout",
     "output_type": "stream",
     "text": [
      "146.79918255903198\n",
      "38.52848873813304\n",
      "S\n",
      "[[ 0.06604881  0.55133981 -0.94518439  0.72677192]\n",
      " [ 0.20166395  0.66311608 -0.17411076 -0.66036048]\n",
      " [ 0.4554452   0.48822234  0.27328922  0.18824402]\n",
      " [ 0.86460331 -0.13394183 -0.04031029 -0.0170528 ]]\n",
      "e ^Λt\n",
      "[[139.411809943341*t 0 0 0]\n",
      " [0 5.00404037108925*t 0 0]\n",
      " [0 0 0.553046928294402*t 0]\n",
      " [0 0 0 0.0311027572758226*t]]\n",
      "S⁻¹\n",
      "[[ 0.00932407  0.04425785  0.21287537  1.03342871]\n",
      " [ 0.20599302  0.51262016  0.94559559 -0.63341138]\n",
      " [-0.64514827 -0.37920481  1.11958613 -0.45203032]\n",
      " [ 0.37979994 -0.88606828  0.71936003 -0.20127887]]\n"
     ]
    }
   ],
   "source": [
    "anorm = np.linalg.norm(A) \n",
    "print(anorm) \n",
    "ainvnorm = np.linalg.norm(ainv)\n",
    "print(ainvnorm)\n",
    "#exp﴾At) \n",
    "ev,s = np.linalg.eig(A) \n",
    "e = np.diag(ev)\n",
    "t = sp.var(\"t\")\n",
    "e = e*t\n",
    "print(\"S\")\n",
    "print(s)\n",
    "print(\"e ^\\u039Bt\")\n",
    "print(e)\n",
    "print(\"S\\u207B\\u00b9\")\n",
    "print(np.linalg.inv(s),sep=\"\\n\")"
   ]
  },
  {
   "cell_type": "markdown",
   "metadata": {},
   "source": [
    "## Part (viii)"
   ]
  },
  {
   "cell_type": "code",
   "execution_count": 62,
   "metadata": {},
   "outputs": [
    {
     "name": "stdout",
     "output_type": "stream",
     "text": [
      "[[ 49.        ]\n",
      " [-46.66666667]\n",
      " [ 14.        ]\n",
      " [ -1.33333333]]\n"
     ]
    }
   ],
   "source": [
    "gaus = np.linalg.solve(A, b) \n",
    "print(gaus)"
   ]
  },
  {
   "cell_type": "markdown",
   "metadata": {},
   "source": [
    "## Part (ix)"
   ]
  },
  {
   "cell_type": "code",
   "execution_count": 63,
   "metadata": {},
   "outputs": [
    {
     "name": "stdout",
     "output_type": "stream",
     "text": [
      "Jacobi method using x_1 as the initial\n",
      "Jacobi method will not converge\n",
      "[[-2.16067413e+13]\n",
      " [-1.18978405e+13]\n",
      " [-3.51053269e+12]\n",
      " [-6.75050659e+11]]\n",
      "\n",
      "Jacobi method using x_2 as the initial\n",
      "Jacobi method will not converge\n",
      "[[1.10020535e+16]\n",
      " [6.05832577e+15]\n",
      " [1.78754714e+15]\n",
      " [3.43732698e+14]]\n"
     ]
    }
   ],
   "source": [
    "def jacobi(a,b,x,num_iterations):\n",
    "    #A = L + D + U\n",
    "    D = np.diag(np.diagonal(a))\n",
    "    LU = D - a #﴾-L-U﴿\n",
    "    Dinv = np.linalg.inv(D)\n",
    "    eig = np.linalg.eig(Dinv@LU)[0] #Eig values of Dinv*﴾-L-U﴿\n",
    "    for i in eig:\n",
    "        if (abs(i)>1):\n",
    "            print(\"Jacobi method will not converge\") # Eig vals > 1\n",
    "    for i in range(num_iterations):\n",
    "        x = np.dot(np.matmul(Dinv, LU), x) + np.dot(Dinv, b)\n",
    "        \n",
    "    return x\n",
    "\n",
    "print(\"Jacobi method using x_1 as the initial\")\n",
    "print(jacobi(A,b,x01,50)) \n",
    "print(\"\\nJacobi method using x_2 as the initial\")\n",
    "print(jacobi(A,b,x02,50))"
   ]
  },
  {
   "cell_type": "markdown",
   "metadata": {},
   "source": [
    "## Part (x)"
   ]
  },
  {
   "cell_type": "code",
   "execution_count": 64,
   "metadata": {},
   "outputs": [
    {
     "name": "stdout",
     "output_type": "stream",
     "text": [
      "Gauss Seidel using x_1 as the initial\n",
      "[[ 36.50420289]\n",
      " [-34.70915436]\n",
      " [ 10.4322867 ]\n",
      " [ -0.99812479]]\n",
      "Gauss Seidel using x_2 as the initial\n",
      "[[ 34.64875226]\n",
      " [-32.93363147]\n",
      " [  9.9025313 ]\n",
      " [ -0.94835102]]\n"
     ]
    }
   ],
   "source": [
    "def g_seidel(a,b,x,num_iterations):\n",
    "    DL = np.tril(a) #﴾D+L﴿\n",
    "    U = DL - a #U\n",
    "    DLinv = np.linalg.inv(DL) #﴾D+L﴿inv\n",
    "    eig = np.linalg.eig(DLinv@U)[0]  #Eig vals of ﴾D+L﴿inv*﴾-U﴿\n",
    "    for i in eig:\n",
    "        if (abs(i)>1): \n",
    "            print(\"Gauss Seidel method will not converge\") #Eig vals > 1\n",
    "    for i in range(num_iterations):\n",
    "        x = np.matmul(np.matmul(DLinv, U), x) + np.matmul(DLinv,b) \n",
    "\n",
    "    return x \n",
    "\n",
    "print(\"Gauss Seidel using x_1 as the initial\")\n",
    "print(g_seidel(A,b,x01,100))\n",
    "print(\"Gauss Seidel using x_2 as the initial\")\n",
    "print(g_seidel(A,b,x02,100))"
   ]
  },
  {
   "cell_type": "markdown",
   "metadata": {},
   "source": [
    "## Part (xi)"
   ]
  },
  {
   "cell_type": "code",
   "execution_count": 65,
   "metadata": {},
   "outputs": [
    {
     "name": "stdout",
     "output_type": "stream",
     "text": [
      "Using x01 and w : -1\n",
      "[[2.28320345e+89]\n",
      " [2.38192570e+89]\n",
      " [1.30482942e+89]\n",
      " [4.97018701e+88]]\n",
      "Using x02 and w : -1\n",
      "[[2.21327607e+91]\n",
      " [2.30897477e+91]\n",
      " [1.26486658e+91]\n",
      " [4.81796573e+90]]\n",
      "\n",
      "\n",
      "Using x01 and w : 0\n",
      "[[100.        ]\n",
      " [-33.33333333]\n",
      " [  6.25      ]\n",
      " [ -0.8       ]]\n",
      "Using x02 and w : 0\n",
      "[[101.        ]\n",
      " [-32.33333333]\n",
      " [  7.25      ]\n",
      " [  0.2       ]]\n",
      "\n",
      "\n",
      "Using x01 and w : 1\n",
      "[[ 36.50420289]\n",
      " [-34.70915436]\n",
      " [ 10.4322867 ]\n",
      " [ -0.99812479]]\n",
      "Using x02 and w : 1\n",
      "[[ 34.64875226]\n",
      " [-32.93363147]\n",
      " [  9.9025313 ]\n",
      " [ -0.94835102]]\n",
      "\n",
      "\n",
      "Using x01 and w : 2\n",
      "[[-123.57719659]\n",
      " [ 334.18082643]\n",
      " [-171.57141312]\n",
      " [  23.10485085]]\n",
      "Using x02 and w : 2\n",
      "[[ 627.40090574]\n",
      " [-569.10203384]\n",
      " [ 150.10753005]\n",
      " [ -11.37296477]]\n",
      "\n",
      "\n",
      "Using x01 and w : 3\n",
      "[[-1.40930565e+52]\n",
      " [ 2.27535273e+52]\n",
      " [-6.98654786e+51]\n",
      " [ 4.11517983e+51]]\n",
      "Using x02 and w : 3\n",
      "[[ 8.06978335e+53]\n",
      " [-2.60955605e+53]\n",
      " [ 2.36121669e+53]\n",
      " [-8.72145665e+52]]\n",
      "\n",
      "\n"
     ]
    }
   ],
   "source": [
    "w=[-1, 0, 1, 2, 3]\n",
    "\n",
    "def SOR(A, b, x, w):\n",
    "  wL = w*np.tril(A,-1)  #Lower triangular\n",
    "  wU = w*np.triu(A,1)   #Upper triangular\n",
    "  D = np.diag(np.diagonal(A))   #Diagonal matrix\n",
    "\n",
    "  for _ in range(100):\n",
    "      x = np.matmul(np.matmul(np.linalg.inv(D+wL), ((1-w)*D-wU)), x) + np.matmul(np.linalg.inv(D+wL), b)    #SOR formula\n",
    "  return x\n",
    "\n",
    "for k in w:\n",
    "    print(\"Using x01 and w :\",k)\n",
    "    print(SOR(A, b, x01, k))\n",
    "    print(\"Using x02 and w :\",k)\n",
    "    print(SOR(A, b, x02, k))\n",
    "    print(\"\\n\")"
   ]
  },
  {
   "cell_type": "markdown",
   "metadata": {},
   "source": [
    "## Part (xii)"
   ]
  },
  {
   "cell_type": "code",
   "execution_count": 66,
   "metadata": {},
   "outputs": [
    {
     "name": "stdout",
     "output_type": "stream",
     "text": [
      "[ 9.43785229 -8.2557267  11.73874904 -3.9945521 ]\n",
      "[-1.31053647 -4.20525792 -0.48505501  0.9337456 ]\n"
     ]
    }
   ],
   "source": [
    "def conjgrad(a,b,x):\n",
    "    r = b - np.dot(a,x)\n",
    "    p = r\n",
    "    rsold = np.dot(np.transpose(r),r)\n",
    "    \n",
    "    for i in range(len(b)):\n",
    "        Ap = np.dot(a,p)\n",
    "        alpha = rsold/np.dot(np.transpose(p),Ap)\n",
    "        x = x + np.dot(alpha, p)\n",
    "        r = r - np.dot(alpha, Ap)\n",
    "        rsnew = np.dot(np.transpose(r), r) \n",
    "        if np.sqrt(rsnew) < 1e-8:\n",
    "            break\n",
    "        p = r + (rsnew/rsold)*p\n",
    "        rsold = rsnew\n",
    "    return x\n",
    "\n",
    "A = [[1,2,4,8],[1,3,9,27],[1,4,16,64],[1,5,25,125]]\n",
    "\n",
    "b = [1,-1,1,-1]\n",
    "\n",
    "x01 = [0,0,0,0]\n",
    "\n",
    "x02 = [1,1,1,1]\n",
    "\n",
    "print(conjgrad(A,b,x01))\n",
    "print(conjgrad(A,b,x02))"
   ]
  },
  {
   "cell_type": "markdown",
   "metadata": {},
   "source": [
    "## Part (xiii)"
   ]
  },
  {
   "cell_type": "code",
   "execution_count": 67,
   "metadata": {},
   "outputs": [
    {
     "name": "stdout",
     "output_type": "stream",
     "text": [
      "[0.00021242 0.00112507 0.0055775  0.02734895]\n",
      "[ 1.09995546  1.43350536  2.95238442 10.02676617]\n",
      "\n",
      "\n",
      "[9.25913171e-13 2.00040337e-08 1.40018220e-07 8.00084404e-07]\n",
      "[1.00000296 1.00001272 1.00005695 1.00026223]\n"
     ]
    }
   ],
   "source": [
    "#Solving Ax=b using x = x + e(A'Ax-A'b)\n",
    "def solver(A, b, x, e):\n",
    "    for k in range(100):\n",
    "        x = x + e*((np.transpose(A)@A)@x - np.transpose(A)@b)\n",
    "    return x\n",
    "\n",
    "print(solver(A,b,x01,1e-6))\n",
    "print(solver(A,b,x02,1e-6))\n",
    "print(\"\\n\")\n",
    "print(solver(A,b,x01,1e-10))\n",
    "print(solver(A,b,x02,1e-10))"
   ]
  },
  {
   "cell_type": "markdown",
   "metadata": {},
   "source": [
    "## Part (xiv)"
   ]
  },
  {
   "cell_type": "code",
   "execution_count": 68,
   "metadata": {},
   "outputs": [
    {
     "name": "stdout",
     "output_type": "stream",
     "text": [
      "Q = \n",
      "[[-0.5         0.67082039  0.5         0.2236068 ]\n",
      " [-0.5         0.2236068  -0.5        -0.67082039]\n",
      " [-0.5        -0.2236068  -0.5         0.67082039]\n",
      " [-0.5        -0.67082039  0.5        -0.2236068 ]]\n",
      "R = \n",
      "[[  -2.           -7.          -27.         -112.        ]\n",
      " [   0.           -2.23606798  -15.65247584  -86.75943753]\n",
      " [   0.            0.            2.           21.        ]\n",
      " [   0.            0.            0.           -1.34164079]]\n"
     ]
    }
   ],
   "source": [
    "Q,R = np.linalg.qr(A)\n",
    "print('Q = ')  \n",
    "print(Q)\n",
    "print('R = ')\n",
    "print(R)"
   ]
  },
  {
   "cell_type": "markdown",
   "metadata": {},
   "source": [
    "## Part (xv)"
   ]
  },
  {
   "cell_type": "code",
   "execution_count": 69,
   "metadata": {},
   "outputs": [
    {
     "data": {
      "text/latex": [
       "$\\displaystyle \\left[\\begin{matrix}139.411809943259\\\\5.00404033727443\\\\0.553046962185864\\\\0.0311027572804307\\end{matrix}\\right]$"
      ],
      "text/plain": [
       "Matrix([\n",
       "[  139.411809943259],\n",
       "[  5.00404033727443],\n",
       "[ 0.553046962185864],\n",
       "[0.0311027572804307]])"
      ]
     },
     "metadata": {},
     "output_type": "display_data"
    }
   ],
   "source": [
    "Y = A\n",
    "for i in range(1,10):\n",
    "    q, r = np.linalg.qr(Y)\n",
    "    Y = np.dot(r,q)\n",
    "    \n",
    "display(sp.Matrix(np.diag(Y)))"
   ]
  },
  {
   "cell_type": "markdown",
   "metadata": {},
   "source": [
    "## Part (xvi)"
   ]
  },
  {
   "cell_type": "code",
   "execution_count": 70,
   "metadata": {
    "scrolled": false
   },
   "outputs": [
    {
     "name": "stdout",
     "output_type": "stream",
     "text": [
      "In A1 and iteration : 1\n",
      "(array([[0.72362507, 0.44718403],\n",
      "       [0.44718403, 0.27644104]]), 3.6179775280898876)\n",
      "In A2 and iteration : 1\n",
      "(array([[ 0.45835289, -0.19928386],\n",
      "       [ 0.79713546, -0.33878257]]), 3.2608695652173902)\n",
      "\n",
      "\n",
      "In A1 and iteration : 2\n",
      "(array([[0.72362507, 0.44718403],\n",
      "       [0.44718403, 0.27644104]]), 3.6179775280898876)\n",
      "In A2 and iteration : 2\n",
      "(array([[ 0.45835289, -0.19928386],\n",
      "       [ 0.79713546, -0.33878257]]), 3.2608695652173902)\n",
      "\n",
      "\n",
      "In A1 and iteration : 3\n",
      "(array([[0.72362507, 0.44718403],\n",
      "       [0.44718403, 0.27644104]]), 3.6179775280898876)\n",
      "In A2 and iteration : 3\n",
      "(array([[ 0.45835289, -0.19928386],\n",
      "       [ 0.79713546, -0.33878257]]), 3.2608695652173902)\n",
      "\n",
      "\n",
      "In A1 and iteration : 4\n",
      "(array([[0.72362507, 0.44718403],\n",
      "       [0.44718403, 0.27644104]]), 3.6179775280898876)\n",
      "In A2 and iteration : 4\n",
      "(array([[ 0.45835289, -0.19928386],\n",
      "       [ 0.79713546, -0.33878257]]), 3.2608695652173902)\n",
      "\n",
      "\n",
      "In A1 and iteration : 5\n",
      "(array([[0.72362507, 0.44718403],\n",
      "       [0.44718403, 0.27644104]]), 3.6179775280898876)\n",
      "In A2 and iteration : 5\n",
      "(array([[ 0.45835289, -0.19928386],\n",
      "       [ 0.79713546, -0.33878257]]), 3.2608695652173902)\n",
      "\n",
      "\n"
     ]
    }
   ],
   "source": [
    "A1 = np.array([[3,1],\n",
    "              [1,2]])\n",
    "A2 = np.array([[5,-1],\n",
    "              [4,1]])\n",
    "def power_method(A, y, num_iterations=10):\n",
    "    for i in range(num_iterations):\n",
    "        q = np.dot(A, y)\n",
    "        y = q/np.linalg.norm(q)\n",
    "    e = (A@y)[0]/y[0]\n",
    "    return y, e[0]\n",
    "\n",
    "for i in range(1,6):\n",
    "    print(\"In A1 and iteration :\",i)\n",
    "    print(power_method(A1,i))\n",
    "    print(\"In A2 and iteration :\",i)\n",
    "    print(power_method(A2,i))\n",
    "    print(\"\\n\")"
   ]
  },
  {
   "cell_type": "markdown",
   "metadata": {},
   "source": [
    "## Part (xvii)"
   ]
  },
  {
   "cell_type": "code",
   "execution_count": 71,
   "metadata": {},
   "outputs": [
    {
     "name": "stdout",
     "output_type": "stream",
     "text": [
      "Cholesky of A*A^transpose:\n",
      "[[  9.21954446   0.           0.           0.        ]\n",
      " [ 28.09249429   5.5508346    0.           0.        ]\n",
      " [ 63.45215891  18.46039302   1.42738182   0.        ]\n",
      " [120.50486932  41.56449685   5.19057662   0.1642757 ]]\n",
      "Cholesky of A^transpose*A:\n",
      "[[  2.           0.           0.           0.        ]\n",
      " [  7.           2.23606798   0.           0.        ]\n",
      " [ 27.          15.65247584   2.           0.        ]\n",
      " [112.          86.75943753  21.           1.34164079]]\n"
     ]
    }
   ],
   "source": [
    "Cholesky1 = np.linalg.cholesky(A@np.transpose(A))\n",
    "Cholesky2 = np.linalg.cholesky(np.transpose(A) @ A)\n",
    "print('Cholesky of A*A^transpose:')\n",
    "print(Cholesky1)\n",
    "print('Cholesky of A^transpose*A:')\n",
    "print(Cholesky2)"
   ]
  },
  {
   "cell_type": "markdown",
   "metadata": {},
   "source": [
    "# Problem 3"
   ]
  },
  {
   "cell_type": "code",
   "execution_count": 72,
   "metadata": {},
   "outputs": [],
   "source": [
    "A = np.array([[1,2,4,8],[1,-3,9,-27],[1,4,16,64],[1,-5,25,-125]])"
   ]
  },
  {
   "cell_type": "code",
   "execution_count": 73,
   "metadata": {},
   "outputs": [
    {
     "name": "stdout",
     "output_type": "stream",
     "text": [
      "[[   1    1    1    1]\n",
      " [   2   -3    4   -5]\n",
      " [   4    9   16   25]\n",
      " [   8  -27   64 -125]]\n"
     ]
    }
   ],
   "source": [
    "transpoed_A = np.transpose(A)\n",
    "print(transpoed_A)"
   ]
  },
  {
   "cell_type": "code",
   "execution_count": 74,
   "metadata": {},
   "outputs": [
    {
     "name": "stdout",
     "output_type": "stream",
     "text": [
      "transposed_A: \n",
      " [[   1    1    1    1]\n",
      " [   2   -3    4   -5]\n",
      " [   4    9   16   25]\n",
      " [   8  -27   64 -125]]\n",
      "\n",
      " transposed_A_times_A: \n",
      " [[    4    -2    54   -80]\n",
      " [   -2    54   -80   978]\n",
      " [   54   -80   978 -2312]\n",
      " [  -80   978 -2312 20514]]\n",
      "\n",
      " Eigenvalue: \n",
      " [2.08305297e+04 7.12532504e+02 8.62745285e-01 6.07504615e+00]\n",
      "\n",
      " Singularvalue: \n",
      " [144.32785492  26.69330448   0.92884083   2.46476087]\n"
     ]
    }
   ],
   "source": [
    "inversed_A = np.linalg.inv(A)\n",
    "print('transposed_A: \\n', transposed_A)\n",
    "transposed_A_times_A = np.dot(transposed_A,A)\n",
    "print('\\n transposed_A_times_A: \\n', transposed_A_times_A)\n",
    "w,v = np.linalg.eig(transposed_A_times_A)\n",
    "# Eigenvalues\n",
    "print('\\n Eigenvalue: \\n', w)\n",
    "singular = np.sqrt(w)\n",
    "print('\\n Singularvalue: \\n', singular)\n"
   ]
  },
  {
   "cell_type": "markdown",
   "metadata": {},
   "source": [
    "## Part (i)"
   ]
  },
  {
   "cell_type": "markdown",
   "metadata": {},
   "source": [
    "for Rank(X) <= 3, min||A - X|| = ||A - A3|| = smallest sigma = 0.92884083\n",
    "then we can know that the answer is smallest sigma, which is 0.92884083"
   ]
  },
  {
   "cell_type": "markdown",
   "metadata": {},
   "source": [
    "## Part (ii)"
   ]
  },
  {
   "cell_type": "markdown",
   "metadata": {},
   "source": [
    "for Rank(X) <= 1,  min||A - X|| = ||A - A3|| = 2nd sigma = 26.69330448\n",
    "then we can know that the answer is 2nd sigma, which is 26.69330448"
   ]
  }
 ],
 "metadata": {
  "kernelspec": {
   "display_name": "Python 3",
   "language": "python",
   "name": "python3"
  },
  "language_info": {
   "codemirror_mode": {
    "name": "ipython",
    "version": 3
   },
   "file_extension": ".py",
   "mimetype": "text/x-python",
   "name": "python",
   "nbconvert_exporter": "python",
   "pygments_lexer": "ipython3",
   "version": "3.8.5"
  }
 },
 "nbformat": 4,
 "nbformat_minor": 4
}
